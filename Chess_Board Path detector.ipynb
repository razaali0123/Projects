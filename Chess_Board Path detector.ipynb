{
 "cells": [
  {
   "cell_type": "code",
   "execution_count": 3,
   "metadata": {},
   "outputs": [],
   "source": [
    "import numpy as np"
   ]
  },
  {
   "cell_type": "code",
   "execution_count": 4,
   "metadata": {},
   "outputs": [],
   "source": [
    "c=np.array([[0,0,0,0],\n",
    "         [1,1,1,0],\n",
    "         [1,1,1,1],\n",
    "         [1,1,1,0]\n",
    "        ])\n",
    "check=np.zeros(c.shape)"
   ]
  },
  {
   "cell_type": "code",
   "execution_count": 5,
   "metadata": {},
   "outputs": [],
   "source": [
    "def chess_board(c,i,j):\n",
    "    if check[i][j]==1:  \n",
    "        return\n",
    "    check[i][j]=1\n",
    "    n=neighbors(c,i,j)\n",
    "    for i in n:\n",
    "        if(c[i[0]][i[1]]==0):\n",
    "            chess_board(c,i[0],i[1])\n",
    "            \n",
    "    if(check[-1][-1]==0):\n",
    "        return -1\n",
    "    else:\n",
    "        return \"Done\"\n",
    "            \n",
    "        \n",
    "        \n",
    "def neighbors(a, i, j):\n",
    "    \"\"\"returns all neighbors of element with index (i,j)\n",
    "    in array assuming array is 2d.\n",
    "    \"\"\"\n",
    "    \n",
    "    result = []\n",
    "    row_above = i-1 >= 0\n",
    "    row_below = i+1 <= a.shape[0]-1\n",
    "    col_left = j-1 >= 0\n",
    "    col_right = j+1 <=  a.shape[0]-1\n",
    "    \n",
    "    if row_above:\n",
    "        result.append((i-1, j))\n",
    "        if col_left:\n",
    "            result.append((i-1, j-1))\n",
    "        if col_right:\n",
    "            result.append((i-1,j+1))\n",
    "    if col_left:\n",
    "        result.append((i, j-1))\n",
    "    if col_right:\n",
    "        result.append((i, j+1))\n",
    "    if row_below:\n",
    "        result.append((i+1, j))\n",
    "        if col_left:\n",
    "            result.append((i+1, j-1))\n",
    "        if col_right:\n",
    "            result.append((i+1, j+1))\n",
    "    return result\n",
    "    \n",
    "    \n",
    "        \n",
    "            \n",
    "    "
   ]
  },
  {
   "cell_type": "code",
   "execution_count": 6,
   "metadata": {},
   "outputs": [
    {
     "data": {
      "text/plain": [
       "-1"
      ]
     },
     "execution_count": 6,
     "metadata": {},
     "output_type": "execute_result"
    }
   ],
   "source": [
    "chess_board(c,0,0)"
   ]
  },
  {
   "cell_type": "code",
   "execution_count": null,
   "metadata": {},
   "outputs": [],
   "source": []
  }
 ],
 "metadata": {
  "kernelspec": {
   "display_name": "Python 3",
   "language": "python",
   "name": "python3"
  },
  "language_info": {
   "codemirror_mode": {
    "name": "ipython",
    "version": 3
   },
   "file_extension": ".py",
   "mimetype": "text/x-python",
   "name": "python",
   "nbconvert_exporter": "python",
   "pygments_lexer": "ipython3",
   "version": "3.7.3"
  }
 },
 "nbformat": 4,
 "nbformat_minor": 2
}
