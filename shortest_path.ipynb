{
  "nbformat": 4,
  "nbformat_minor": 0,
  "metadata": {
    "colab": {
      "name": "shortest_path",
      "provenance": [],
      "collapsed_sections": [],
      "toc_visible": true
    },
    "kernelspec": {
      "display_name": "Python 3",
      "name": "python3"
    }
  },
  "cells": [
    {
      "cell_type": "code",
      "metadata": {
        "id": "tT0Yg5KZuSU-",
        "colab_type": "code",
        "colab": {}
      },
      "source": [
        "import numpy as np"
      ],
      "execution_count": 0,
      "outputs": []
    },
    {
      "cell_type": "code",
      "metadata": {
        "id": "yZt1K6j1ueDH",
        "colab_type": "code",
        "colab": {}
      },
      "source": [
        "def neighbors(a, i, j):\n",
        "    \"\"\"returns all neighbors of element with index (i,j)\n",
        "    in array assuming array is 2d.\n",
        "    \"\"\"\n",
        "    \n",
        "    result = []\n",
        "    row_above = i-1 >= 0\n",
        "    row_below = i+1 <= a.shape[0]-1\n",
        "    col_left = j-1 >= 0\n",
        "    col_right = j+1 <=  a.shape[0]-1\n",
        "\n",
        "    if row_below:\n",
        "      result.append((i+1, j))\n",
        "      #if col_right:\n",
        "        #result.append((i+1, j+1))\n",
        "      #if col_left:\n",
        "        #result.append((i+1, j-1))\n",
        "    \n",
        "    if col_right:\n",
        "        result.append((i, j+1))\n",
        "      \n",
        "    if row_above:\n",
        "        result.append((i-1, j))\n",
        "        #if col_left:\n",
        "         #   result.append((i-1, j-1))\n",
        "        #if col_right:\n",
        "         #   result.append((i-1,j+1))\n",
        "    if col_left:\n",
        "        result.append((i, j-1))\n",
        "    \n",
        "\n",
        "    return result"
      ],
      "execution_count": 0,
      "outputs": []
    },
    {
      "cell_type": "code",
      "metadata": {
        "id": "Z5SH3QptY5EC",
        "colab_type": "code",
        "colab": {}
      },
      "source": [
        "def filtering_neighbors(lst_neighbors,arr,dist_matrix,i,j):\n",
        "  filtered_n=[]\n",
        "  filtered_neighbors=[]\n",
        "  for idx in lst_neighbors:\n",
        "    if(arr[idx[0]][idx[1]]==0):\n",
        "      filtered_n.append(idx)\n",
        "  for idx in filtered_n:\n",
        "    if(dist_matrix[i][j]+1 < dist_matrix[idx[0]][idx[1]]):\n",
        "      dist_matrix[idx[0]][idx[1]]=dist_matrix[i][j]+1\n",
        "      filtered_neighbors.append(idx)\n",
        "  return filtered_neighbors,dist_matrix\n",
        "\n"
      ],
      "execution_count": 0,
      "outputs": []
    },
    {
      "cell_type": "code",
      "metadata": {
        "id": "_2T4ZFFn6CLk",
        "colab_type": "code",
        "colab": {}
      },
      "source": [
        "def drawpath(matrix,i,j):\n",
        "  nearby=neighbors(matrix,i,j)\n",
        "  current_value=matrix[i][j]\n",
        "  matrix[i][j]='300'\n",
        "  for n in nearby:\n",
        "    if((current_value-1==matrix[n[0]][n[1]])):\n",
        "      drawpath(matrix,n[0],n[1])\n",
        "      break\n",
        "  return matrix\n",
        "\n",
        "  "
      ],
      "execution_count": 0,
      "outputs": []
    },
    {
      "cell_type": "code",
      "metadata": {
        "id": "hyIe1qy66Ibd",
        "colab_type": "code",
        "colab": {}
      },
      "source": [
        "def chessboard(path):\n",
        "  for i in range(matrix.shape[0]):\n",
        "    for j in range(matrix.shape[0]):\n",
        "      if(path[i][j]!=1000 and path[i][j]!=300):\n",
        "        path[i][j]=0\n",
        "      elif(path[i][j]==1000):\n",
        "        path[i][j]=1\n",
        "      elif(path[i][j]==300):\n",
        "        path[i][j]=2\n",
        "  return path      \n"
      ],
      "execution_count": 0,
      "outputs": []
    },
    {
      "cell_type": "code",
      "metadata": {
        "id": "Q5u0gLXbe6qr",
        "colab_type": "code",
        "colab": {}
      },
      "source": [
        "def Shortest_path(arr,i,j,dist_matrix):\n",
        "  if(i+j==(arr.shape[0]-1)*2):\n",
        "    return dist_matrix\n",
        "  n=neighbors(arr,i,j)\n",
        "  t=filtering_neighbors(n,arr,dist_matrix,i,j)\n",
        "  filtered_neighbors=t[0]\n",
        "  dist_matrix=t[1]\n",
        "  if(filtered_neighbors):\n",
        "    for idx in filtered_neighbors:\n",
        "      Shortest_path(arr,idx[0],idx[1],dist_matrix)\n",
        "  else:\n",
        "    #print(dist_matrix)\n",
        "    return dist_matrix\n",
        "  return dist_matrix\n",
        "\n",
        "\n"
      ],
      "execution_count": 0,
      "outputs": []
    },
    {
      "cell_type": "code",
      "metadata": {
        "id": "w0POtk4_h7at",
        "colab_type": "code",
        "outputId": "3b185901-5a2a-4bbf-8521-a84a9396f3e7",
        "colab": {
          "base_uri": "https://localhost:8080/",
          "height": 170
        }
      },
      "source": [
        "arr=np.array([[0,0,0,0,0,0,0,0],\n",
        "              [1,1,0,0,1,1,1,0],\n",
        "              [1,1,0,0,1,1,1,0],\n",
        "              [1,1,0,0,1,1,1,0],\n",
        "              [1,1,0,0,1,1,1,0],\n",
        "              [1,1,0,0,1,1,1,0],\n",
        "              [1,1,0,0,1,1,1,0],\n",
        "              [1,1,0,0,1,1,1,0]])\n",
        "\n",
        "values=np.full_like(arr,1000)\n",
        "values[0][0]=0\n",
        "matrix=Shortest_path(arr,0,0,values)\n",
        "shortest=Shortest_path(arr,0,0,values)[(arr.shape[0]-1)][(arr.shape[0]-1)]\n",
        "if(shortest!=1000):\n",
        "  print(\"Shortest value is: \",shortest)\n",
        "  print(chessboard(drawpath(matrix,matrix.shape[0]-1,matrix.shape[0]-1)))\n",
        "else:\n",
        "  print('-1')"
      ],
      "execution_count": 31,
      "outputs": [
        {
          "output_type": "stream",
          "text": [
            "Shortest value is:  14\n",
            "[[2 2 2 2 2 2 2 2]\n",
            " [1 1 0 0 1 1 1 2]\n",
            " [1 1 0 0 1 1 1 2]\n",
            " [1 1 0 0 1 1 1 2]\n",
            " [1 1 0 0 1 1 1 2]\n",
            " [1 1 0 0 1 1 1 2]\n",
            " [1 1 0 0 1 1 1 2]\n",
            " [1 1 0 0 1 1 1 2]]\n"
          ],
          "name": "stdout"
        }
      ]
    },
    {
      "cell_type": "code",
      "metadata": {
        "id": "40XhaDs0iR1H",
        "colab_type": "code",
        "colab": {}
      },
      "source": [
        ""
      ],
      "execution_count": 0,
      "outputs": []
    },
    {
      "cell_type": "code",
      "metadata": {
        "id": "mMbMRV8x8PX7",
        "colab_type": "code",
        "outputId": "d4272f0b-a288-4b0e-b6f5-1287c75c3ea2",
        "colab": {
          "base_uri": "https://localhost:8080/",
          "height": 170
        }
      },
      "source": [
        " arr1=np.array([[0,0,0,0,0,1,0,0],\n",
        "                [1,1,0,0,1,1,1,0],\n",
        "                [0,1,0,0,0,0,1,0],\n",
        "                [0,1,0,0,1,0,0,0],\n",
        "                [0,1,1,1,1,1,1,0],\n",
        "                [0,1,1,1,1,1,1,0],\n",
        "                [0,1,1,1,1,1,1,0],\n",
        "                [0,1,1,1,1,1,1,0]\n",
        "         ]) \n",
        "values=np.full_like(arr,1000)\n",
        "values[0][0]=0\n",
        "matrix=Shortest_path(arr1,0,0,values)\n",
        "shortest=matrix[(arr1.shape[0]-1)][(arr1.shape[0]-1)]\n",
        "if(shortest!=1000):\n",
        "  print(\"Shortest value is: \",shortest)\n",
        "  print(chessboard(drawpath(matrix,matrix.shape[0]-1,matrix.shape[0]-1)))\n",
        "else:\n",
        "  print('-1')"
      ],
      "execution_count": 32,
      "outputs": [
        {
          "output_type": "stream",
          "text": [
            "Shortest value is:  14\n",
            "[[2 2 2 2 0 1 0 0]\n",
            " [1 1 0 2 1 1 1 0]\n",
            " [1 1 0 2 2 2 1 0]\n",
            " [1 1 0 0 1 2 2 2]\n",
            " [1 1 1 1 1 1 1 2]\n",
            " [1 1 1 1 1 1 1 2]\n",
            " [1 1 1 1 1 1 1 2]\n",
            " [1 1 1 1 1 1 1 2]]\n"
          ],
          "name": "stdout"
        }
      ]
    },
    {
      "cell_type": "code",
      "metadata": {
        "id": "zJ79nYUwm2ie",
        "colab_type": "code",
        "colab": {}
      },
      "source": [
        ""
      ],
      "execution_count": 0,
      "outputs": []
    },
    {
      "cell_type": "code",
      "metadata": {
        "id": "IjPeu-To-TQv",
        "colab_type": "code",
        "outputId": "64d37956-58a0-49a9-83f0-e6d43fd754f2",
        "colab": {
          "base_uri": "https://localhost:8080/",
          "height": 170
        }
      },
      "source": [
        "arr2=np.array([[0,0,0,1,1,1,1,1],\n",
        "               [1,1,0,0,1,1,1,1],\n",
        "               [1,1,0,0,1,1,1,1],\n",
        "               [1,1,0,0,1,1,1,1],\n",
        "               [1,1,0,0,1,1,1,1],\n",
        "               [1,1,0,0,0,0,1,1],\n",
        "               [1,1,0,1,1,0,0,0],\n",
        "               [1,1,0,0,1,0,0,0]\n",
        "        ])\n",
        "values=np.full_like(arr,1000)\n",
        "values[0][0]=0\n",
        "matrix=Shortest_path(arr2,0,0,values)\n",
        "shortest=matrix[(arr2.shape[0]-1)][(arr2.shape[0]-1)]\n",
        "if(shortest!=1000):\n",
        "  print(\"Shortest value is: \",shortest)\n",
        "  print(chessboard(drawpath(matrix,matrix.shape[0]-1,matrix.shape[0]-1)))\n",
        "else:\n",
        "  print('-1')"
      ],
      "execution_count": 33,
      "outputs": [
        {
          "output_type": "stream",
          "text": [
            "Shortest value is:  14\n",
            "[[2 2 2 1 1 1 1 1]\n",
            " [1 1 2 2 1 1 1 1]\n",
            " [1 1 0 2 1 1 1 1]\n",
            " [1 1 0 2 1 1 1 1]\n",
            " [1 1 0 2 1 1 1 1]\n",
            " [1 1 0 2 2 2 1 1]\n",
            " [1 1 0 1 1 2 2 2]\n",
            " [1 1 0 0 1 0 0 2]]\n"
          ],
          "name": "stdout"
        }
      ]
    },
    {
      "cell_type": "code",
      "metadata": {
        "id": "Z-4e98gpm4T0",
        "colab_type": "code",
        "colab": {}
      },
      "source": [
        "\n"
      ],
      "execution_count": 0,
      "outputs": []
    },
    {
      "cell_type": "code",
      "metadata": {
        "id": "Tjn-dI9o-ZJ8",
        "colab_type": "code",
        "outputId": "1c5ea797-0820-4bab-ac69-6e1db96382f9",
        "colab": {
          "base_uri": "https://localhost:8080/",
          "height": 34
        }
      },
      "source": [
        " arr3=np.array([[0,0,0,0,0,0,0,0],\n",
        "                [1,1,0,0,1,1,1,0],\n",
        "               [0,1,0,0,1,1,1,0],\n",
        "               [0,1,0,0,1,1,1,1],\n",
        "               [0,1,1,1,1,1,1,0],\n",
        "               [0,1,1,1,1,1,1,0],\n",
        "               [0,1,1,1,1,1,1,0],\n",
        "               [0,1,1,1,1,1,1,0]\n",
        "         ])\n",
        "values=np.full_like(arr,1000)\n",
        "values[0][0]=0\n",
        "matrix=Shortest_path(arr3,0,0,values)\n",
        "shortest=matrix[(arr3.shape[0]-1)][(arr3.shape[0]-1)]\n",
        "if(shortest!=1000):\n",
        "  print(\"Shortest value is: \",shortest)\n",
        "  print(chessboard(drawpath(matrix,matrix.shape[0]-1,matrix.shape[0]-1)))\n",
        "else:\n",
        "  print('-1')"
      ],
      "execution_count": 34,
      "outputs": [
        {
          "output_type": "stream",
          "text": [
            "-1\n"
          ],
          "name": "stdout"
        }
      ]
    }
  ]
}