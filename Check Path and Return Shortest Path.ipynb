{
 "cells": [
  {
   "cell_type": "code",
   "execution_count": 185,
   "metadata": {},
   "outputs": [],
   "source": [
    "import numpy as np"
   ]
  },
  {
   "cell_type": "code",
   "execution_count": 186,
   "metadata": {},
   "outputs": [
    {
     "data": {
      "text/plain": [
       "array([[0, 0, 0, 0],\n",
       "       [1, 1, 1, 1],\n",
       "       [0, 1, 0, 0],\n",
       "       [0, 1, 0, 0]])"
      ]
     },
     "execution_count": 186,
     "metadata": {},
     "output_type": "execute_result"
    }
   ],
   "source": [
    "arr=np.array([[0,0,0,0],\n",
    "         [1,1,1,1],\n",
    "         [0,1,0,0],\n",
    "         [0,1,0,0]\n",
    "        ])\n",
    "arr"
   ]
  },
  {
   "cell_type": "code",
   "execution_count": 187,
   "metadata": {},
   "outputs": [],
   "source": [
    "def Check_Path_Exist(arr,i,j,check):\n",
    "    \"\"\"Parameters:\n",
    "    arr= Chess_board array 2D\n",
    "    i,j=start indices\n",
    "    check= array that draws path \n",
    "    \"\"\"\n",
    "    if check[i][j]==1:  \n",
    "        return\n",
    "    check[i][j]=1\n",
    "    n=neighbors(arr,i,j)\n",
    "    for i in n:\n",
    "        if(arr[i[0]][i[1]]==0):\n",
    "            Check_Path_Exist(arr,i[0],i[1],check)\n",
    "            \n",
    "    if(check[-1][-1]==0):\n",
    "        return np.zeros(check.shape)\n",
    "    else:\n",
    "        return check\n",
    "            \n",
    "        \n",
    "        \n",
    "def neighbors(a, i, j):\n",
    "    \"\"\"returns all neighbors of element with index (i,j)\n",
    "    in array assuming array is 2d.\n",
    "    \"\"\"\n",
    "    \n",
    "    result = []\n",
    "    row_above = i-1 >= 0\n",
    "    row_below = i+1 <= a.shape[0]-1\n",
    "    col_left = j-1 >= 0\n",
    "    col_right = j+1 <=  a.shape[0]-1\n",
    "    \n",
    "    if row_above:\n",
    "        result.append((i-1, j))\n",
    "        if col_left:\n",
    "            result.append((i-1, j-1))\n",
    "        if col_right:\n",
    "            result.append((i-1,j+1))\n",
    "    if col_left:\n",
    "        result.append((i, j-1))\n",
    "    if col_right:\n",
    "        result.append((i, j+1))\n",
    "    if row_below:\n",
    "        result.append((i+1, j))\n",
    "        if col_left:\n",
    "            result.append((i+1, j-1))\n",
    "        if col_right:\n",
    "            result.append((i+1, j+1))\n",
    "    return result\n",
    "    \n",
    "    \n",
    "        \n",
    "            \n",
    "    "
   ]
  },
  {
   "cell_type": "code",
   "execution_count": 188,
   "metadata": {},
   "outputs": [],
   "source": [
    "def Shortest_Path(check,i,j,step,stepss,previous_neighbor):\n",
    "    \"\"\"Input: index\n",
    "    check: map of available paths as array\n",
    "    step: result array\n",
    "    stepss: steps taken so far(?)\n",
    "    previous_neighbor: boolean array same as check to help mark paths not to take\n",
    "    \n",
    "    TAKES INDEX I,J RETURNS Neighbor which have available value and removes previously visited neighbors\n",
    "    neighbors=neighbors of i,j\n",
    "    n=removes all previously visited neighbors\n",
    "    neighbor_exist= list of all neigbors that are not zero\n",
    "    \"\"\"\n",
    "    neighbor=neighbors(check,i,j)\n",
    "    n=[]\n",
    "    neighbor_exist=[]\n",
    "    previous_neighbor[i][j]=1\n",
    "    for t in neighbor:\n",
    "        if(previous_neighbor[t[0]][t[1]]!=1):\n",
    "            n.append(t)\n",
    "    for t in n:\n",
    "        if(check[t[0]][t[1]]==1):\n",
    "            neighbor_exist.append(t)\n",
    "    if(neighbor_exist): # check if all neighbors are unavailable\n",
    "        for p in neighbor_exist:\n",
    "            if(p[0]+p[1]!=((check.shape[0])-1)*2): # if not at target\n",
    "                stepss=stepss+1\n",
    "                Shortest_Path(check,p[0],p[1],step,stepss,previous_neighbor)\n",
    "                stepss=stepss-1\n",
    "            else:\n",
    "                step.append((stepss+1))\n",
    "                previous_neighbor[i][j]=0\n",
    "                return step   \n",
    "    for t in neighbor_exist:\n",
    "        previous_neighbor[i][j]=0\n",
    "    return step\n",
    "    \n",
    "    \n",
    "            "
   ]
  },
  {
   "cell_type": "code",
   "execution_count": 189,
   "metadata": {},
   "outputs": [
    {
     "name": "stdout",
     "output_type": "stream",
     "text": [
      "-1\n"
     ]
    }
   ],
   "source": [
    "check=Check_Path_Exist(arr,0,0,np.zeros(arr.shape))\n",
    "if(check[-1][-1]==1): # if path exist then check for the shortest path\n",
    "    print(\"The Shortest Path is: \",min(Shortest_Path(check,0,0,[],0,np.zeros(check.shape)))) #This Function all possible paths hence we take shortest path\n",
    "else:\n",
    "    print(\"-1\")\n",
    "    "
   ]
  },
  {
   "cell_type": "code",
   "execution_count": null,
   "metadata": {},
   "outputs": [],
   "source": []
  },
  {
   "cell_type": "code",
   "execution_count": null,
   "metadata": {},
   "outputs": [],
   "source": []
  }
 ],
 "metadata": {
  "kernelspec": {
   "display_name": "Python 3",
   "language": "python",
   "name": "python3"
  },
  "language_info": {
   "codemirror_mode": {
    "name": "ipython",
    "version": 3
   },
   "file_extension": ".py",
   "mimetype": "text/x-python",
   "name": "python",
   "nbconvert_exporter": "python",
   "pygments_lexer": "ipython3",
   "version": "3.7.3"
  }
 },
 "nbformat": 4,
 "nbformat_minor": 2
}
